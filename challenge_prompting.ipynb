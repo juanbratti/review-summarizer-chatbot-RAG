{
 "cells": [
  {
   "cell_type": "markdown",
   "id": "92de8ca4-7181-45f5-9980-b723d2566f5e",
   "metadata": {},
   "source": [
    "# Challenge Prompting\n",
    "\n",
    "Resolver los siguientes ejercicios dejando el codigo con su ejecucion.\n",
    "\n",
    "Importar las librerias necesarias y **correr las celdas para visualizar el resultado en cada ejercicio**."
   ]
  },
  {
   "cell_type": "code",
   "execution_count": 163,
   "id": "d65bbb09-0f5a-4e97-9a06-2361c5cdd1bd",
   "metadata": {},
   "outputs": [],
   "source": [
    "## bloque importacion de librerias\n",
    "\n",
    "import json\n",
    "import ipywidgets as widgets\n",
    "from IPython.display import display, clear_output\n",
    "import cohere"
   ]
  },
  {
   "cell_type": "code",
   "execution_count": 164,
   "id": "e004e5b7-b704-4592-b8b4-b01b8d6687cb",
   "metadata": {},
   "outputs": [],
   "source": [
    "## bloque variables de entorno\n",
    "from dotenv import load_dotenv\n",
    "import os\n",
    "\n",
    "load_dotenv()  # Load .env file\n",
    "\n",
    "api_key = os.getenv(\"COHERE_API_KEY\")"
   ]
  },
  {
   "cell_type": "code",
   "execution_count": 165,
   "id": "cd6745ff-cd45-4231-b3d6-518954a9ffca",
   "metadata": {},
   "outputs": [
    {
     "name": "stdout",
     "output_type": "stream",
     "text": [
      "id='2cdcf0bb-02b7-48ac-9ee8-eaaa3a9804db' finish_reason='COMPLETE' prompt=None message=AssistantMessageResponse(role='assistant', tool_calls=None, tool_plan=None, content=[TextAssistantMessageResponseContentItem(type='text', text='Hello! How can I help you today?')], citations=None) usage=Usage(billed_units=UsageBilledUnits(input_tokens=3.0, output_tokens=9.0, search_units=None, classifications=None), tokens=UsageTokens(input_tokens=204.0, output_tokens=9.0)) logprobs=None\n"
     ]
    }
   ],
   "source": [
    "## bloque conexion a Cohere\n",
    "\n",
    "co = cohere.ClientV2(api_key)\n",
    "\n",
    "response = co.chat(\n",
    "    model=\"command-r-plus-08-2024\",\n",
    "    messages=[{\"role\": \"user\", \"content\": \"hello world!\"}],\n",
    ")\n",
    "\n",
    "print(response)\n",
    "\n"
   ]
  },
  {
   "cell_type": "code",
   "execution_count": 166,
   "id": "dfa01668-f1a5-4508-b414-cea351c4416a",
   "metadata": {},
   "outputs": [],
   "source": [
    "## función para obtener la respuesta de un modelo en específico con un prompt:\n",
    "def usar_modelo(modelo, msje):\n",
    "    response = co.chat(\n",
    "        model=modelo,\n",
    "        messages=[{\"role\": \"user\", \"content\": msje}],\n",
    "    )\n",
    "    content=(response.message).content[0].text\n",
    "    return content"
   ]
  },
  {
   "cell_type": "markdown",
   "id": "9aacdb26-ce51-49cc-b37f-5aa45c09ff51",
   "metadata": {},
   "source": [
    "## Ejercicio 1\n",
    "\n",
    "Extraccion de entidades\n",
    "\n",
    "Utilizar el LLM para extraer las siguientes entidades del texto medico.\n",
    "\n",
    "- Paciente:\n",
    "    - Nombre\n",
    "    - Edad\n",
    "- Fecha de admisión\n",
    "- Síntomas\n",
    "- Diagnóstico\n",
    "- Tratamiento recomendado\n",
    "\n",
    "**Aclaracion:** \n",
    "\n",
    "La salida tiene que ser un **string con formato de tipo json**, el cual se convertira en un diccionario de Python.\n",
    "\n",
    "Si la linea de conversion en test da error el ejercicio no esta completo."
   ]
  },
  {
   "cell_type": "code",
   "execution_count": 167,
   "id": "750e43d7-b074-4973-9cd0-5a6fbe816084",
   "metadata": {},
   "outputs": [
    {
     "data": {
      "text/plain": [
       "{'paciente': {'nombre': 'María González', 'edad': 45},\n",
       " 'fecha_admision': '2023-08-05',\n",
       " 'sintomas': ['fatiga crónica', 'dolores musculares'],\n",
       " 'diagnostico': 'fibromialgia',\n",
       " 'tratamiento': ['fisioterapia', 'medicamentos analgésicos']}"
      ]
     },
     "execution_count": 167,
     "metadata": {},
     "output_type": "execute_result"
    }
   ],
   "source": [
    "# ejemplo \n",
    "\n",
    "# texto a analizar\n",
    "\"\"\"La paciente, María González, de 45 años, fue admitida en el Hospital Central el 5 de agosto de 2023 debido a síntomas de fatiga crónica y dolores musculares./\n",
    "Tras una serie de análisis, se diagnosticó fibromialgia. La doctora a cargo, Laura Ramírez, recomendó un tratamiento basado en fisioterapia y medicamentos analgésicos. /\n",
    "La próxima consulta está programada para el 15 de septiembre.\"\"\"\n",
    "\n",
    "\n",
    "# respuesta del LLM\n",
    "{\n",
    "  \"paciente\": {\n",
    "    \"nombre\": \"María González\",\n",
    "    \"edad\": 45\n",
    "  },\n",
    "  \"fecha_admision\": \"2023-08-05\",\n",
    "  \"sintomas\": [\n",
    "    \"fatiga crónica\",\n",
    "    \"dolores musculares\"\n",
    "  ],\n",
    "  \"diagnostico\": \"fibromialgia\",\n",
    "  \"tratamiento\": [\n",
    "    \"fisioterapia\",\n",
    "    \"medicamentos analgésicos\"\n",
    "  ]\n",
    "}"
   ]
  },
  {
   "cell_type": "markdown",
   "id": "e88b9837",
   "metadata": {},
   "source": [
    "### Prueba 1"
   ]
  },
  {
   "cell_type": "code",
   "execution_count": 168,
   "id": "425cffab-9efd-4d80-bc64-6ef69ce233e1",
   "metadata": {},
   "outputs": [],
   "source": [
    "text_to_analize = \"\"\"Sofía López, de 28 años, ingresó al Hospital Infantil el 3 de abril de 2023 debido a fiebre alta y tos persistente./\n",
    "Después de varias pruebas, se le diagnosticó neumonía. La pediatra responsable, Dra. Claudia Torres, indicó tratamiento con antibióticos y reposo./\n",
    "La próxima evaluación será el 10 de abril.\"\"\""
   ]
  },
  {
   "cell_type": "code",
   "execution_count": 169,
   "id": "d62a7a83-dd21-4a30-a198-9359b8b7a886",
   "metadata": {},
   "outputs": [],
   "source": [
    "instrucciones = \"\"\"\n",
    "  Tu objetivo es analizar un texto médico y extraer del mismo las siguientes entidades en formato JSON. \n",
    "  Primero debes identificar el nombre y la edad del paciente, luego su fecha de admisión, luego los síntomas presentados, luego su diagnóstico y finalmente el tratamiento recomendado. \n",
    "\"\"\"\n",
    "\n",
    "restricciones = \"\"\"\n",
    "  En tu respuesta, asegurate de devolver las entidades en formato JSON. No incluyas texto adicional.\n",
    "  El formato de las fechas debe ser \"YYYY-MM-DD\".\n",
    "  Si algún dato no está presente en el texto, escribe \"No se especifica\".\n",
    "\"\"\"\n",
    "\n",
    "ejemplo = \"\"\"\n",
    "  # texto a analizar\n",
    "  \\\"\\\"\\\"La paciente, María González, de 45 años, fue admitida en el Hospital Central el 5 de agosto de 2023 debido a síntomas de fatiga crónica y dolores musculares./\n",
    "  Tras una serie de análisis, se diagnosticó fibromialgia. La doctora a cargo, Laura Ramírez, recomendó un tratamiento basado en fisioterapia y medicamentos analgésicos. /\n",
    "  La próxima consulta está programada para el 15 de septiembre.\\\"\\\"\\\"\n",
    "\n",
    "  # tu respuesta debe ser:\n",
    "  {\n",
    "    \"paciente\": {\n",
    "      \"nombre\": \"María González\",\n",
    "      \"edad\": 45\n",
    "    },\n",
    "    \"fecha_admision\": \"2023-08-05\",\n",
    "    \"sintomas\": [\n",
    "      \"fatiga crónica\",\n",
    "      \"dolores musculares\"\n",
    "    ],\n",
    "    \"diagnostico\": \"fibromialgia\",\n",
    "    \"tratamiento\": [\n",
    "      \"fisioterapia\",\n",
    "      \"medicamentos analgésicos\"\n",
    "    ]\n",
    "  }\n",
    "\"\"\""
   ]
  },
  {
   "cell_type": "code",
   "execution_count": 170,
   "id": "268c14d4",
   "metadata": {},
   "outputs": [],
   "source": [
    "prompt = f\"\"\"\n",
    "            ### Instrucciones:\n",
    "            {instrucciones}\n",
    "\n",
    "            ### Restricciones:\n",
    "            {restricciones}\n",
    "\n",
    "            ### Ejemplo:\n",
    "            {ejemplo}\n",
    "\n",
    "            ### Texto médico a analizar:\n",
    "            {text_to_analize}\n",
    "\n",
    "            \"\"\""
   ]
  },
  {
   "cell_type": "code",
   "execution_count": 171,
   "id": "6f6f0009-8a9c-49a3-b740-d73e0dbe765e",
   "metadata": {},
   "outputs": [
    {
     "name": "stdout",
     "output_type": "stream",
     "text": [
      "{\n",
      "    \"paciente\": {\n",
      "        \"nombre\": \"Sofía López\",\n",
      "        \"edad\": 28\n",
      "    },\n",
      "    \"fecha_admision\": \"2023-04-03\",\n",
      "    \"sintomas\": [\n",
      "        \"fiebre alta\",\n",
      "        \"tos persistente\"\n",
      "    ],\n",
      "    \"diagnostico\": \"neumonía\",\n",
      "    \"tratamiento\": [\n",
      "        \"antibióticos\",\n",
      "        \"reposo\"\n",
      "    ]\n",
      "}\n"
     ]
    }
   ],
   "source": [
    "# test\n",
    "llm_response = usar_modelo(\"command-r-plus-08-2024\", prompt)\n",
    "print(llm_response)"
   ]
  },
  {
   "cell_type": "code",
   "execution_count": 172,
   "id": "097ee190-faca-46d8-9c11-0f8904bd1752",
   "metadata": {},
   "outputs": [],
   "source": [
    "final_result = json.loads(llm_response)"
   ]
  },
  {
   "cell_type": "markdown",
   "id": "ecffe719",
   "metadata": {},
   "source": [
    "### Prueba 2"
   ]
  },
  {
   "cell_type": "code",
   "execution_count": 173,
   "id": "df0e72e5-3bd5-4f26-860c-340e25e72f04",
   "metadata": {},
   "outputs": [],
   "source": [
    "text_to_analize = \"\"\"Carlos Ramírez, un hombre de 54 años, ingresó al Hospital General el 15 de noviembre de 2023 tras sufrir dolores severos en el pecho y dificultad para respirar./\n",
    "Después de un electrocardiograma y análisis adicionales, se diagnosticó un infarto agudo de miocardio. El médico tratante, Dr. Juan Pérez, indicó tratamiento inmediato con medicamentos anticoagulantes y hospitalización en la UCI./\n",
    "Se programó un cateterismo cardíaco para el 17 de noviembre.\"\"\"\n",
    "\n",
    "prompt = f\"\"\"\n",
    "            ### Instrucciones:\n",
    "            {instrucciones}\n",
    "\n",
    "            ### Ejemplo:\n",
    "            {ejemplo}\n",
    "\n",
    "            ### Texto médico a analizar:\n",
    "            {text_to_analize}\n",
    "\n",
    "            \"\"\"\n"
   ]
  },
  {
   "cell_type": "code",
   "execution_count": 174,
   "id": "2277cba0",
   "metadata": {},
   "outputs": [
    {
     "name": "stdout",
     "output_type": "stream",
     "text": [
      "{\n",
      "    \"paciente\": {\n",
      "        \"nombre\": \"Carlos Ramírez\",\n",
      "        \"edad\": 54\n",
      "    },\n",
      "    \"fecha_admision\": \"2023-11-15\",\n",
      "    \"sintomas\": [\n",
      "        \"dolores severos en el pecho\",\n",
      "        \"dificultad para respirar\"\n",
      "    ],\n",
      "    \"diagnostico\": \"infarto agudo de miocardio\",\n",
      "    \"tratamiento\": [\n",
      "        \"medicamentos anticoagulantes\",\n",
      "        \"hospitalización en la UCI\",\n",
      "        \"cateterismo cardíaco\"\n",
      "    ]\n",
      "}\n"
     ]
    }
   ],
   "source": [
    "llm_response = usar_modelo(\"command-r-plus-08-2024\", prompt)\n",
    "print(llm_response)"
   ]
  },
  {
   "cell_type": "code",
   "execution_count": 175,
   "id": "c4207105",
   "metadata": {},
   "outputs": [],
   "source": [
    "final_result = json.loads(llm_response)"
   ]
  },
  {
   "cell_type": "markdown",
   "id": "246aaf24",
   "metadata": {},
   "source": [
    "### Prueba 3"
   ]
  },
  {
   "cell_type": "code",
   "execution_count": 176,
   "id": "20d575df",
   "metadata": {},
   "outputs": [],
   "source": [
    "text_to_analize = \"\"\"Martina Fernández, una niña de 6 años, fue admitida al Hospital de Niños  por presentar fiebre alta, vómitos y deshidratación severa./\n",
    "El diagnóstico realizado por la Dra. Ana López determinó una gastroenteritis viral. El tratamiento recomendado incluyó hidratación intravenosa y reposición de electrolitos./\n",
    "Se indicó seguimiento médico para el 22 de octubre.\"\"\"\n",
    "\n",
    "prompt = f\"\"\"\n",
    "            ### Instrucciones:\n",
    "            {instrucciones}\n",
    "\n",
    "            ### Ejemplo:\n",
    "            {ejemplo}\n",
    "\n",
    "            ### Texto médico a analizar:\n",
    "            {text_to_analize}\n",
    "\n",
    "            \"\"\""
   ]
  },
  {
   "cell_type": "code",
   "execution_count": 177,
   "id": "41980c42",
   "metadata": {},
   "outputs": [
    {
     "name": "stdout",
     "output_type": "stream",
     "text": [
      "{\n",
      "    \"paciente\": {\n",
      "        \"nombre\": \"Martina Fernández\",\n",
      "        \"edad\": 6\n",
      "    },\n",
      "    \"fecha_admision\": \"No se especifica\",\n",
      "    \"sintomas\": [\n",
      "        \"fiebre alta\",\n",
      "        \"vómitos\",\n",
      "        \"deshidratación severa\"\n",
      "    ],\n",
      "    \"diagnostico\": \"gastroenteritis viral\",\n",
      "    \"tratamiento\": [\n",
      "        \"hidratación intravenosa\",\n",
      "        \"reposición de electrolitos\"\n",
      "    ]\n",
      "}\n"
     ]
    }
   ],
   "source": [
    "llm_response = usar_modelo(\"command-r-plus-08-2024\", prompt)\n",
    "print(llm_response)"
   ]
  },
  {
   "cell_type": "code",
   "execution_count": 178,
   "id": "79182c61",
   "metadata": {},
   "outputs": [],
   "source": [
    "final_result = json.loads(llm_response)"
   ]
  },
  {
   "cell_type": "markdown",
   "id": "793b04d9",
   "metadata": {},
   "source": [
    "### Prueba 4"
   ]
  },
  {
   "cell_type": "code",
   "execution_count": 179,
   "id": "1d7e1fc9",
   "metadata": {},
   "outputs": [],
   "source": [
    "text_to_analize = \"\"\"Ricardo Pérez, acudió al Hospital Regional el 1 de marzo de 2023 debido a fatiga persistente, pérdida de peso y tos con sangre./\n",
    "Tras diversos estudios, se le diagnosticó tuberculosis pulmonar activa. El médico encargado, Dr. Andrés Gómez, recetó un tratamiento antibiótico de larga duración, supervisado mensualmente./\n",
    "El paciente deberá regresar para una evaluación el 5 de abril.\"\"\"\n",
    "\n",
    "prompt = f\"\"\"\n",
    "            ### Instrucciones:\n",
    "            {instrucciones}\n",
    "\n",
    "            ### Ejemplo:\n",
    "            {ejemplo}\n",
    "\n",
    "            ### Texto médico a analizar:\n",
    "            {text_to_analize}\n",
    "\n",
    "            \"\"\""
   ]
  },
  {
   "cell_type": "code",
   "execution_count": 180,
   "id": "76785c91",
   "metadata": {},
   "outputs": [
    {
     "name": "stdout",
     "output_type": "stream",
     "text": [
      "{\n",
      "    \"paciente\": {\n",
      "        \"nombre\": \"Ricardo Pérez\",\n",
      "        \"edad\": \"No especificada\"\n",
      "    },\n",
      "    \"fecha_admision\": \"2023-03-01\",\n",
      "    \"sintomas\": [\n",
      "        \"fatiga persistente\",\n",
      "        \"pérdida de peso\",\n",
      "        \"tos con sangre\"\n",
      "    ],\n",
      "    \"diagnostico\": \"tuberculosis pulmonar activa\",\n",
      "    \"tratamiento\": \"tratamiento antibiótico de larga duración\"\n",
      "}\n"
     ]
    }
   ],
   "source": [
    "llm_response = usar_modelo(\"command-r-plus-08-2024\", prompt)\n",
    "print(llm_response)"
   ]
  },
  {
   "cell_type": "code",
   "execution_count": 181,
   "id": "1991e3d9",
   "metadata": {},
   "outputs": [],
   "source": [
    "final_result = json.loads(llm_response)"
   ]
  },
  {
   "cell_type": "markdown",
   "id": "b37fbf25-6db4-432a-82c4-2e7edce27686",
   "metadata": {},
   "source": [
    "## Ejercicio 2\n",
    "\n",
    "Tenemos dos funciones en Python, una llamada *'add_contact'* y otra llamada *'get_information'*.\n",
    "\n",
    "**Utilizar algun LLM que permita funtion calling** y desarrollar un codigo secuencial automatico que consiga:\n",
    "\n",
    "Interpretar la consulta del usuario, identificar a que funcion llamar, luego llamarla (si es que aplica) y darle una respuesta final al usuario.  (usar function calling para esta solucion)\n",
    "\n",
    "La entrada a dicho codigo es la consulta del usuario, a continuacion algunos ejemplos:\n",
    "\n",
    "- \"Agrega a Juan Pérez con el número 555-1234 y el correo juanperez@mail.com.\"\n",
    "- \"Guarda a Lucía Gómez en mis contactos. Su teléfono es 555-5678 y su email es lucia.gomez@gmail.com.\"\n",
    "- \"Cual es el Email de Juan Pérez.?\"\n",
    "\n",
    "Salidas esperadas de dichos ejemplos (variaran porque las genera el LLM):\n",
    "-  El contacto fue anadido con exito\n",
    "-  Se anadio el contacto\n",
    "-  El email de juan perez es juanperez@mail.com\n",
    "\n",
    "Link de ayuda: https://github.com/cohere-ai/notebooks/blob/main/notebooks/agents/Vanilla_Tool_Use_v2.ipynb"
   ]
  },
  {
   "cell_type": "code",
   "execution_count": 182,
   "id": "0fb79ea5-4ae3-4367-8213-8c38059b3f1b",
   "metadata": {},
   "outputs": [],
   "source": [
    "contacts = {\n",
    "                        'Joaquin Lopez':{'tel': 15456663258, 'mail': 'Joacolocolopez@gmail.com'},\n",
    "                      'Flavio Oncativo':{'tel': 1545554178, 'mail': 'FOncativo@hotmail.com'}\n",
    "}"
   ]
  },
  {
   "cell_type": "code",
   "execution_count": 183,
   "id": "c6e43cb9-5e6a-4807-9818-c85408f1ba58",
   "metadata": {},
   "outputs": [],
   "source": [
    "def add_contact(name, phone, email):\n",
    "    \"\"\"\n",
    "    Agrega un contacto al diccionario.\n",
    "    Parámetros:\n",
    "        name (str): Nombre del contacto.\n",
    "        phone (str): Número de teléfono del contacto.\n",
    "        email (str): Correo electrónico del contacto.\n",
    "    Retorna:\n",
    "        str: Mensaje confirmando la adición del contacto.\n",
    "    \"\"\"\n",
    "    contacts[name] = {'phone': phone, 'email': email}\n",
    "    return \"Contacto agregado con exito.\"\n",
    "\n",
    "def get_information(name):\n",
    "    \"\"\"\n",
    "    Recupera la información de un contacto.\n",
    "    Parámetros:\n",
    "        name (str): Nombre del contacto.\n",
    "    Retorna:\n",
    "        dict/str: Información del contacto o un mensaje si no existe.\n",
    "    \"\"\"\n",
    "    if name in contacts:\n",
    "        return contacts[name]\n",
    "    else:\n",
    "        return \"Contacto no encontrado.\"\n",
    "    \n",
    "functions_map = {\n",
    "    \"add_contact\": add_contact,\n",
    "    \"get_information\": get_information\n",
    "}"
   ]
  },
  {
   "cell_type": "code",
   "execution_count": 184,
   "id": "7d3bed9a-d5d1-49c3-b91b-8cd23bb9c9ab",
   "metadata": {},
   "outputs": [],
   "source": [
    "# defino tools para el modelo de cohere\n",
    "tools = [\n",
    "    {\n",
    "        \"type\": \"function\",\n",
    "        \"function\": {\n",
    "            \"name\": \"add_contact\",\n",
    "            \"description\": \"Agrega un nuevo contacto al diccionario de contactos.\",\n",
    "            \"parameters\": {\n",
    "                \"type\": \"object\",\n",
    "                \"properties\": {\n",
    "                    \"name\": {\n",
    "                        \"type\": \"string\",\n",
    "                        \"description\": \"El nombre completo del contacto.\"\n",
    "                    },\n",
    "                    \"phone\": {\n",
    "                        \"type\": \"string\",\n",
    "                        \"description\": \"El número de teléfono del contacto.\"\n",
    "                    },\n",
    "                    \"email\": {\n",
    "                        \"type\": \"string\",\n",
    "                        \"description\": \"La dirección de correo electrónico del contacto.\"\n",
    "                    }\n",
    "                },\n",
    "                \"required\": [\"name\", \"phone\", \"email\"]\n",
    "            }\n",
    "        }\n",
    "    },\n",
    "    {\n",
    "        \"type\": \"function\",\n",
    "        \"function\": {\n",
    "            \"name\": \"get_information\",\n",
    "            \"description\": \"Recupera la información de un contacto existente en el diccionario.\",\n",
    "            \"parameters\": {\n",
    "                \"type\": \"object\",\n",
    "                \"properties\": {\n",
    "                    \"name\": {\n",
    "                        \"type\": \"string\",\n",
    "                        \"description\": \"El nombre completo del que queremos información.\"\n",
    "                    }\n",
    "                },\n",
    "                \"required\": [\"name\"]\n",
    "            }\n",
    "        }\n",
    "    }\n",
    "]\n"
   ]
  },
  {
   "cell_type": "code",
   "execution_count": 185,
   "id": "6ddaf4d1-6ab9-4707-823d-11ada125b0f2",
   "metadata": {},
   "outputs": [],
   "source": [
    "# defino el prompt que le voy a pasar al modelo y mensaje de ejemplo\n",
    "instrucciones = \"\"\"\n",
    "    Tu objetivo es responder las solicitudes de los usuarios para agregar o recuperar información de contactos en un diccionario. Se te van a dar distintas funciones que puedes utilizar para lograr responder la consulta del usuario.\n",
    "\"\"\"\n",
    "\n",
    "mensaje = \"Agrega a Juan Pérez con el número 555-1234 y el correo juanperez@mail.com.\""
   ]
  },
  {
   "cell_type": "code",
   "execution_count": 186,
   "id": "3caabdf6",
   "metadata": {},
   "outputs": [
    {
     "name": "stdout",
     "output_type": "stream",
     "text": [
      "El modelo recomienda usar las siguientes funciones:\n",
      "\n",
      "Mensaje del modelo:\n",
      "Voy a utilizar la función add_contact() para agregar a Juan Pérez con el número 555-1234 y el correo juanperez@mail.com. \n",
      "\n",
      "Funciones a usar:\n",
      "Tool name: add_contact | Parameters: {\"email\":\"juanperez@mail.com\",\"name\":\"Juan Pérez\",\"phone\":\"555-1234\"}\n"
     ]
    }
   ],
   "source": [
    "# defino mensaje y hago print de la respuesta del modelo.\n",
    "messages=[{\"role\": \"system\", \"content\": instrucciones},\n",
    "          {\"role\": \"user\", \"content\": mensaje}]\n",
    "\n",
    "response = co.chat(\n",
    "    model=\"command-r-plus-08-2024\",\n",
    "    messages=messages,\n",
    "    tools=tools\n",
    ")\n",
    "\n",
    "print(\"El modelo recomienda usar las siguientes funciones:\\n\")\n",
    "print(\"Mensaje del modelo:\")\n",
    "print(response.message.tool_plan,\"\\n\")\n",
    "print(\"Funciones a usar:\")\n",
    "for tc in response.message.tool_calls:\n",
    "    print(f\"Tool name: {tc.function.name} | Parameters: {tc.function.arguments}\")\n",
    "\n",
    "messages.append({'role': 'assistant', 'tool_calls': response.message.tool_calls, 'tool_plan': response.message.tool_plan})\n"
   ]
  },
  {
   "cell_type": "code",
   "execution_count": 187,
   "id": "2df8e67d",
   "metadata": {},
   "outputs": [
    {
     "name": "stdout",
     "output_type": "stream",
     "text": [
      "resultados de los llamados, esto se lo daremos al modelo luego:\n",
      "\"Contacto agregado con exito.\"\n"
     ]
    }
   ],
   "source": [
    "# veamos ahora la parte de efectivamente ejecutar las llamadas\n",
    "\n",
    "tool_content = []\n",
    "# se itera sobre las llamadas a las funciones recomendadas por el modelo\n",
    "for tc in response.message.tool_calls:\n",
    "    # acá llamamos a la función usando los parámetros que recomienda el modelo\n",
    "    tool_result= functions_map[tc.function.name](**json.loads(tc.function.arguments))\n",
    "    # guardamos en una lista\n",
    "    tool_content.append(json.dumps(tool_result))\n",
    "    # guardamos el resultado en el historial de mensajes para usarlo en el modelo\n",
    "    messages.append({'role': 'tool', 'tool_call_id': tc.id, 'content': tool_content})\n",
    "\n",
    "print(\"resultados de los llamados, esto se lo daremos al modelo luego:\")\n",
    "for result in tool_content:\n",
    "    print(json.dumps(json.loads(result), indent=2))"
   ]
  },
  {
   "cell_type": "code",
   "execution_count": 188,
   "id": "baaa519c",
   "metadata": {},
   "outputs": [
    {
     "name": "stdout",
     "output_type": "stream",
     "text": [
      "{'Joaquin Lopez': {'tel': 15456663258, 'mail': 'Joacolocolopez@gmail.com'}, 'Flavio Oncativo': {'tel': 1545554178, 'mail': 'FOncativo@hotmail.com'}, 'Juan Pérez': {'phone': '555-1234', 'email': 'juanperez@mail.com'}}\n"
     ]
    }
   ],
   "source": [
    "# veamos si efectivamente se guardó el contacto\n",
    "print(contacts)"
   ]
  },
  {
   "cell_type": "code",
   "execution_count": 189,
   "id": "1b093811",
   "metadata": {},
   "outputs": [],
   "source": [
    "# construyamos la rta final del modelo\n",
    "response = co.chat(\n",
    "    model=\"command-r-plus-08-2024\",\n",
    "    messages=messages,\n",
    "    tools=tools\n",
    ")"
   ]
  },
  {
   "cell_type": "code",
   "execution_count": 190,
   "id": "eba4fa28",
   "metadata": {},
   "outputs": [
    {
     "name": "stdout",
     "output_type": "stream",
     "text": [
      "Respuesta final:\n",
      "He agregado a Juan Pérez con el número 555-1234 y el correo juanperez@mail.com.\n"
     ]
    }
   ],
   "source": [
    "print(\"Respuesta final:\")\n",
    "print(response.message.content[0].text)"
   ]
  },
  {
   "cell_type": "code",
   "execution_count": 191,
   "id": "34281ff5",
   "metadata": {},
   "outputs": [
    {
     "name": "stdout",
     "output_type": "stream",
     "text": [
      "El modelo recomienda usar las siguientes funciones:\n",
      "\n",
      "Mensaje del modelo:\n",
      "Voy a buscar el correo electrónico de Juan Pérez. \n",
      "\n",
      "Funciones a usar:\n",
      "Tool name: get_information | Parameters: {\"name\":\"Juan Pérez\"}\n"
     ]
    }
   ],
   "source": [
    "# veamos ahora para el caso de la segunda función, get_information para recuperar la información del contacto recién agregado.\n",
    "mensaje = \"Me podrías decir el mail de Juan Pérez?\"\n",
    "\n",
    "# defino mensaje y hago print de la respuesta del modelo.\n",
    "messages=[{\"role\": \"system\", \"content\": instrucciones},\n",
    "          {\"role\": \"user\", \"content\": mensaje}]\n",
    "\n",
    "response = co.chat(\n",
    "    model=\"command-r-plus-08-2024\",\n",
    "    messages=messages,\n",
    "    tools=tools\n",
    ")\n",
    "\n",
    "print(\"El modelo recomienda usar las siguientes funciones:\\n\")\n",
    "print(\"Mensaje del modelo:\")\n",
    "print(response.message.tool_plan,\"\\n\")\n",
    "print(\"Funciones a usar:\")\n",
    "for tc in response.message.tool_calls:\n",
    "    print(f\"Tool name: {tc.function.name} | Parameters: {tc.function.arguments}\")\n",
    "\n",
    "messages.append({'role': 'assistant', 'tool_calls': response.message.tool_calls, 'tool_plan': response.message.tool_plan})\n"
   ]
  },
  {
   "cell_type": "code",
   "execution_count": 192,
   "id": "b2d146db",
   "metadata": {},
   "outputs": [
    {
     "name": "stdout",
     "output_type": "stream",
     "text": [
      "resultados de los llamados, esto se lo daremos al modelo luego:\n",
      "{\n",
      "  \"phone\": \"555-1234\",\n",
      "  \"email\": \"juanperez@mail.com\"\n",
      "}\n"
     ]
    }
   ],
   "source": [
    "# veamos ahora la parte de efectivamente ejecutar la llamada\n",
    "\n",
    "tool_content = []\n",
    "# se itera sobre las llamadas a las funciones recomendadas por el modelo\n",
    "for tc in response.message.tool_calls:\n",
    "    # acá llamamos a la función usando los parámetros que recomienda el modelo\n",
    "    tool_result= functions_map[tc.function.name](**json.loads(tc.function.arguments))\n",
    "    # guardamos en una lista\n",
    "    tool_content.append(json.dumps(tool_result))\n",
    "    # guardamos el resultado en el historial de mensajes para usarlo en el modelo\n",
    "    messages.append({'role': 'tool', 'tool_call_id': tc.id, 'content': tool_content})\n",
    "\n",
    "print(\"resultados de los llamados, esto se lo daremos al modelo luego:\")\n",
    "for result in tool_content:\n",
    "    print(json.dumps(json.loads(result), indent=2))"
   ]
  },
  {
   "cell_type": "code",
   "execution_count": 193,
   "id": "caefa5ef",
   "metadata": {},
   "outputs": [
    {
     "name": "stdout",
     "output_type": "stream",
     "text": [
      "Respuesta final:\n",
      "El correo electrónico de Juan Pérez es juanperez@mail.com.\n"
     ]
    }
   ],
   "source": [
    "# construyamos la rta final del modelo\n",
    "response = co.chat(\n",
    "    model=\"command-r-plus-08-2024\",\n",
    "    messages=messages,\n",
    "    tools=tools\n",
    ")\n",
    "\n",
    "print(\"Respuesta final:\")\n",
    "print(response.message.content[0].text)"
   ]
  },
  {
   "cell_type": "code",
   "execution_count": 194,
   "id": "5ace85d2-cd00-4bd4-81e2-68113eb9f8d5",
   "metadata": {},
   "outputs": [],
   "source": [
    "# automatización de este proceso:\n",
    "\n",
    "def procesar_mensaje(mensaje, modelo, tools, functions_map):\n",
    "\n",
    "    messages=[{\"role\": \"system\", \"content\": instrucciones},\n",
    "              {\"role\": \"user\", \"content\": mensaje}]\n",
    "\n",
    "    response = co.chat(\n",
    "        model=modelo,\n",
    "        messages=messages,\n",
    "        tools=tools\n",
    "    )\n",
    "\n",
    "    messages.append({'role': 'assistant', 'tool_calls': response.message.tool_calls, 'tool_plan': response.message.tool_plan})\n",
    "\n",
    "    tool_content = []\n",
    "    for tc in response.message.tool_calls:\n",
    "        tool_result= functions_map[tc.function.name](**json.loads(tc.function.arguments))\n",
    "        tool_content.append(json.dumps(tool_result))\n",
    "        messages.append({'role': 'tool', 'tool_call_id': tc.id, 'content': tool_content})\n",
    "\n",
    "    response = co.chat(\n",
    "        model=modelo,\n",
    "        messages=messages,\n",
    "        tools=tools\n",
    "    )\n",
    "\n",
    "    print(mensaje)\n",
    "    print(response.message.content[0].text)\n",
    "    "
   ]
  },
  {
   "cell_type": "code",
   "execution_count": 195,
   "id": "61e51ced",
   "metadata": {},
   "outputs": [
    {
     "name": "stdout",
     "output_type": "stream",
     "text": [
      "Guarda a Lucía Gómez en mis contactos. Su teléfono es 555-5678 y su email es lucia.gomez@gmail.com.\n",
      "He guardado a Lucía Gómez en tus contactos.\n",
      "Cual es el Email de Juan Pérez.?\n",
      "El email de Juan Pérez es juanperez@mail.com.\n"
     ]
    }
   ],
   "source": [
    "# probemos el código con los otros ejemplos dados en el enunciado\n",
    "\n",
    "mensaje1 = \"Guarda a Lucía Gómez en mis contactos. Su teléfono es 555-5678 y su email es lucia.gomez@gmail.com.\"\n",
    "mensaje2 = \"Cual es el Email de Juan Pérez.?\"\n",
    "\n",
    "procesar_mensaje(mensaje1, \"command-r-plus-08-2024\", tools, functions_map)\n",
    "procesar_mensaje(mensaje2, \"command-r-plus-08-2024\", tools, functions_map)"
   ]
  },
  {
   "cell_type": "code",
   "execution_count": 196,
   "id": "c932644b",
   "metadata": {},
   "outputs": [
    {
     "name": "stdout",
     "output_type": "stream",
     "text": [
      "{'Joaquin Lopez': {'tel': 15456663258, 'mail': 'Joacolocolopez@gmail.com'}, 'Flavio Oncativo': {'tel': 1545554178, 'mail': 'FOncativo@hotmail.com'}, 'Juan Pérez': {'phone': '555-1234', 'email': 'juanperez@mail.com'}, 'Lucía Gómez': {'phone': '555-5678', 'email': 'lucia.gomez@gmail.com'}}\n"
     ]
    }
   ],
   "source": [
    "print(contacts) #lucía gomez efectivamente está en la lista"
   ]
  },
  {
   "cell_type": "markdown",
   "id": "e9d8badf-dc90-4005-b916-8e528105d797",
   "metadata": {},
   "source": [
    "## Ejercicio 3\n",
    "\n",
    "Crear una funcion llamada \"history_answer\", que toma como parametro de entrada una pregunta sobre un contexto dado y la salida es la respuesta final del proceso impulsado por un LLM.\n",
    "\n",
    "Dada una historia, el usuario podra hacer preguntas sobre la misma y el LLM debe responder siguiendo los siguientes lineamientos:\n",
    "\n",
    "REQUISITOS DE LA RESPUESTA\n",
    "- las respuestas deben ser en base a la historia\n",
    "- ante la misma pregunta siempre debe responder de la misma manera.\n",
    "- que responda en solo una oracion.\n",
    "- el idioma que responde debe ser el mismo que con el que se pregunta (ingles, espanol, portugues).\n",
    "- que agregue emojis en la oracion que resuman el contenido de la misma.\n",
    "- que responda siempre en tercera persona.\n",
    "- si la pregunta no tiene relacion alguna con el contexto, la respuesta debe ser 'Lo siento no puedo ayudarte con eso'.\n",
    "- Responder con 'Hakuna Matata!' al final de **todas** las respuestas (no importa idioma ni cantidad de tokens).\n",
    "\n",
    "**Ayudin**: \n",
    "- No se limiten a usar 1 solo request al LLM, pueden dividirlo en partes para que por un lado se verifique el idioma, por otro lado se verifique si la pregunta tiene relacion con el contexto, etc\n",
    "\n",
    "- Estructuren bien el prompt procurando separar instrucciones, contexto(historia) y pregunta del usuario.\n",
    "\n",
    "- Recuerden usar el system message y user message.\n",
    "\n"
   ]
  },
  {
   "cell_type": "code",
   "execution_count": 197,
   "id": "4fa65537-3aa6-43c6-87e9-86a689f8e1d8",
   "metadata": {},
   "outputs": [],
   "source": [
    "def history_answer(pregunta):\n",
    "    # your code here\n",
    "\n",
    "    # PARA CONSTRUIR RESPUESTA ---------------------------------------------------\n",
    "    instrucciones_rta = \"\"\"\n",
    "        Sos un asistente que responde preguntas basadas en un contexto dado. Dada una pregunta y un contexto, debes responder siguiendo los siguientes lineamientos dados.\n",
    "    \"\"\"\n",
    "\n",
    "    restricciones_rta = \"\"\"\n",
    "        - Tu respuesta debe tener relación al contexto.\n",
    "        - Si una pregunta se repite, debes responder de la misma manera cada vez.\n",
    "        - Tu respuesta debe ser en una oración\n",
    "        - Tu respuesta debe ser en el mismo lenguaje en el que se hizo la pregunta.\n",
    "        - Tu respuesta debe tener emojis que tengan relación a la respuesta y la pregunta\n",
    "        - Tu respuesta siempre debe ser en tercera persona\n",
    "        - Si la pregunta no tiene relación al contexto, responde \"Lo siento no puedo ayudarte con eso\".\n",
    "        - Al final de tu respuesta, siempre debes incluir 'Hakuna Matata!'.\n",
    "    \"\"\"\n",
    "\n",
    "    historia = \"\"\"En un pequeño feudo medieval, Thomas, un joven campesino de dieciséis años, trabajaba desde el amanecer en los campos de trigo del señor feudal. El sol apenas había salido cuando él ya había arado más de lo que sus manos podían soportar. La vida era dura, pero su familia dependía de la cosecha para pagar los impuestos y mantener su hogar de madera y paja.\n",
    "\n",
    "        Un día, el feudo fue sacudido por noticias de guerra. El rey había llamado a todos los hombres en edad de luchar. Thomas sabía que, al igual que otros jóvenes, no tenía elección. Cambió la hoz por una lanza rudimentaria y se unió a la milicia local. Sin entrenamiento, fue empujado a un campo de batalla embarrado, donde el acero resonaba y los gritos de los hombres llenaban el aire.\n",
    "\n",
    "        La batalla fue un caos. Thomas, con el corazón latiendo en su pecho como un tambor de guerra, apenas podía distinguir amigo de enemigo. Logró esquivar una espada, pero cayó al suelo, cubierto de lodo y sangre. Levantándose, vio cómo un compañero caía junto a él, sus ojos abiertos, vacíos.\n",
    "\n",
    "        Cuando la batalla terminó, el silencio era tan profundo como el vacío que sentía. Thomas regresó al feudo, diferente, marcado por la muerte y la violencia. Su madre lo recibió con lágrimas en los ojos, pero él, con la mirada fija en el horizonte, sabía que la inocencia había quedado atrás, enterrada en aquel campo de batalla. La paz del feudo ya no era la misma; él tampoco.\n",
    "    \"\"\"\n",
    "\n",
    "    prompt_rta = f\"\"\"\n",
    "            ### Instrucciones:\n",
    "            {instrucciones_rta}\n",
    "\n",
    "            ### Lineamientos:\n",
    "            {restricciones_rta}\n",
    "\n",
    "            ### Contexto:\n",
    "            {historia}\n",
    "\n",
    "            \"\"\"\n",
    "\n",
    "    messages_rta=[{\"role\": \"system\", \"content\": prompt_rta},\n",
    "                {\"role\": \"user\", \"content\": pregunta}]\n",
    "\n",
    "    # return the answer\n",
    "\n",
    "    response_rta = co.chat(\n",
    "        model=\"command-r-plus-08-2024\",\n",
    "        messages=messages_rta,\n",
    "    )\n",
    "\n",
    "    respuesta_al_usuario = response_rta.message.content[0].text\n",
    "    \n",
    "    # PARA CHEQUEAR LENGUAJE ---------------------------------------------------\n",
    "\n",
    "    instrucciones_leng=\"\"\"\n",
    "        Tu objetivo es analizar dos textos y determinar si el segundo texto está en el mismo idioma que el primero. En el caso de que el segundo texto\n",
    "        no esté en el mismo idioma que el primero, deberás traducir el segundo texto al mismo idioma que el primero.\n",
    "\n",
    "        Si no es necesario hacer una traducción, simplemente responde con el segundo texto. No incluyas ningún texto adicional en tu respuesta.\n",
    "    \"\"\"\n",
    "\n",
    "    prompt_leng = f\"\"\"\n",
    "            ### Instrucciones:\n",
    "            {instrucciones_leng}\n",
    "            \"\"\"\n",
    "    \n",
    "    consulta=f\"\"\"\n",
    "        Texto 1: {pregunta}\n",
    "        Texto 2: {respuesta_al_usuario}\n",
    "    \"\"\"\n",
    "    messages_leng=[{\"role\": \"system\", \"content\": prompt_leng},\n",
    "                    {\"role\": \"user\", \"content\": consulta}]\n",
    "\n",
    "    response_leng = co.chat(\n",
    "        model=\"command-r-plus-08-2024\",\n",
    "        messages=messages_leng,\n",
    "    )\n",
    "\n",
    "    respuesta_leng = response_leng.message.content[0].text\n",
    "\n",
    "    return respuesta_leng"
   ]
  },
  {
   "cell_type": "code",
   "execution_count": 198,
   "id": "f3aaa967-d87f-45d9-9a72-6fc63afc931c",
   "metadata": {},
   "outputs": [
    {
     "name": "stdout",
     "output_type": "stream",
     "text": [
      "Thomas se unió a la milicia a los dieciséis años, con la determinación de un león 🦁. Hakuna Matata!\n"
     ]
    }
   ],
   "source": [
    "pregunta = \"¿Qué edad tenía Thomas cuando se unió a la milicia?\"\n",
    "print(history_answer(pregunta))"
   ]
  },
  {
   "cell_type": "code",
   "execution_count": 199,
   "id": "4e2f82b1",
   "metadata": {},
   "outputs": [
    {
     "name": "stdout",
     "output_type": "stream",
     "text": [
      "Thomas trabajaba en los campos de trigo del señor feudal. 🌾 Hakuna Matata!\n"
     ]
    }
   ],
   "source": [
    "pregunta = \"Where did Thomas work?\"\n",
    "print(history_answer(pregunta))"
   ]
  },
  {
   "cell_type": "code",
   "execution_count": 200,
   "id": "83433de1",
   "metadata": {},
   "outputs": [
    {
     "name": "stdout",
     "output_type": "stream",
     "text": [
      "Thomas avait seize ans 🌾 quand il a troqué sa faux pour une lance et s'est enrôlé dans la milice locale. Hakuna Matata!\n"
     ]
    }
   ],
   "source": [
    "pregunta = \"Quel âge avait Thomas lorsqu'il a rejoint la milice?\"\n",
    "print(history_answer(pregunta))"
   ]
  },
  {
   "cell_type": "code",
   "execution_count": 201,
   "id": "8d60e08d",
   "metadata": {},
   "outputs": [
    {
     "name": "stdout",
     "output_type": "stream",
     "text": [
      "Lo siento, no puedo ayudarte con eso. Hakuna Matata! 😊🦁🌍\n"
     ]
    }
   ],
   "source": [
    "pregunta = \"Como se llama el presidente de los estados unidos\"\n",
    "print(history_answer(pregunta))"
   ]
  },
  {
   "cell_type": "markdown",
   "id": "db6e9a7d-aa39-4a01-ba55-9a7f4ea39522",
   "metadata": {},
   "source": [
    "## Ejercicio 4\n",
    "\n",
    "Crear un chatbot sencillo impulsado por un LLM. \n",
    "\n",
    "Dicho bot esta destinado a un usuario final y debe cumplir las siguientes **condiciones en sus respuestas**:\n",
    "\n",
    "- Responder en no mas de 70 tokens.\n",
    "- Responder de manera positiva, con un tono entusiasta.\n",
    "- Responder con consejos útiles, como si fueras un tutor.\n",
    "\n",
    " \n",
    "**Otras consideraciones**:\n",
    "\n",
    "Respetar el formato de la interfaz provista por el ejercicio.\n",
    "\n",
    "Ademas agregar al codigo propuesto un historial de conversaciones para que el bot pueda mantener el hilo de lo que se esta hablando. Para probar no usen mas de 3 conversaciones anidadas para no enviarle tantos tokens.\n",
    "\n",
    "Dejar impreso en el notebook el historial de la conversacion."
   ]
  },
  {
   "cell_type": "code",
   "execution_count": 202,
   "id": "aa475fa8-e48b-423e-9006-7478a462129c",
   "metadata": {},
   "outputs": [
    {
     "data": {
      "application/vnd.jupyter.widget-view+json": {
       "model_id": "6836a2994e6d4e0a8feb4cffc64ff7c1",
       "version_major": 2,
       "version_minor": 0
      },
      "text/plain": [
       "Text(value='', placeholder='Escribe tu mensaje aquí...')"
      ]
     },
     "metadata": {},
     "output_type": "display_data"
    },
    {
     "data": {
      "application/vnd.jupyter.widget-view+json": {
       "model_id": "734fe36e8e834ddeaa124c90d3625b9d",
       "version_major": 2,
       "version_minor": 0
      },
      "text/plain": [
       "Button(description='Enviar', style=ButtonStyle())"
      ]
     },
     "metadata": {},
     "output_type": "display_data"
    },
    {
     "data": {
      "application/vnd.jupyter.widget-view+json": {
       "model_id": "078182ce1bce4cdf80ddf17b5a55daa9",
       "version_major": 2,
       "version_minor": 0
      },
      "text/plain": [
       "Output()"
      ]
     },
     "metadata": {},
     "output_type": "display_data"
    }
   ],
   "source": [
    "# Crear widgets de entrada y salida\n",
    "input_box = widgets.Text(placeholder='Escribe tu mensaje aquí...')\n",
    "send_button = widgets.Button(description='Enviar')\n",
    "output_box = widgets.Output()\n",
    "\n",
    "chat_history = []\n",
    "\n",
    "# Función de respuesta simulada del chatbot\n",
    "def chatbot_response(message):\n",
    "    # Aquí puedes conectar tu modelo o lógica de chatbot real\n",
    "\n",
    "    prompt = f\"\"\"\n",
    "\n",
    "    ### Instrucciones:\n",
    "    Sos un chatbot entusiasta y positivo que ayuda a las personas con sus consultas, dando consejos útiles.\n",
    "\n",
    "    \"\"\"\n",
    "    \n",
    "    chat_history.append({\"role\": \"user\", \"content\": message})\n",
    "\n",
    "    model_message = [{\"role\": \"system\", \"content\": prompt}] + chat_history\n",
    "\n",
    "    response = co.chat(\n",
    "        model=\"command-r-plus-08-2024\",\n",
    "        messages=model_message,\n",
    "        max_tokens=70\n",
    "    )\n",
    "\n",
    "    model_answer = response.message.content[0].text\n",
    "\n",
    "    #agregar rta al historial\n",
    "    chat_history.append({\"role\": \"assistant\", \"content\": model_answer})\n",
    "\n",
    "    return model_answer\n",
    "\n",
    "# Función de manejo del botón\n",
    "def on_send_button_clicked(b):\n",
    "    with output_box:\n",
    "        clear_output(wait=True)\n",
    "        user_message = input_box.value\n",
    "        if user_message.strip():\n",
    "            print(f\"Tú: {user_message}\")\n",
    "            response = chatbot_response(user_message)\n",
    "            print(f\"Chatbot: {response}\")\n",
    "        input_box.value = ''\n",
    "\n",
    "# Asociar función al botón\n",
    "send_button.on_click(on_send_button_clicked)\n",
    "\n",
    "# Mostrar widgets\n",
    "display(input_box, send_button, output_box)"
   ]
  },
  {
   "cell_type": "code",
   "execution_count": 204,
   "id": "4a213283-3ef7-4df8-8b7f-3bb11d58362d",
   "metadata": {},
   "outputs": [
    {
     "name": "stdout",
     "output_type": "stream",
     "text": [
      "[{'role': 'user', 'content': 'Hola, como estas? Mi nombre es Juan. Tengo 22 años y estudio Computación.'}, {'role': 'assistant', 'content': '¡Hola, Juan! Es un placer conocerte. Me alegra saber que estás estudiando Computación, es una carrera fascinante y con muchas oportunidades en el mundo actual. ¿Cómo va tu experiencia universitaria hasta ahora? ¿Hay algún aspecto de la computación que te apasione especialmente? Estoy aquí para charlar y'}, {'role': 'user', 'content': 'Me podrías decir brevemente cuáles son los temas centrales en computación?'}, {'role': 'assistant', 'content': '¡Claro! La carrera de Computación o Informática abarca una amplia gama de temas interesantes y fundamentales. A continuación, te menciono algunos de los temas centrales que generalmente se estudian en esta carrera:\\n\\n1. **Programación**: Es la base de la computación y abarca el diseño y desarrollo de software utilizando diferentes lenguajes de programación'}, {'role': 'user', 'content': 'Cómo me llamo?'}, {'role': 'assistant', 'content': '¡Vaya, parece que tienes una excelente memoria! Tu nombre es Juan, así es. ¿Hay algo más en lo que pueda ayudarte? Puedo proporcionarte información sobre recursos educativos, darte consejos para organizar tu tiempo de estudio o simplemente charlar sobre temas relacionados con la tecnología. ¡No dudes en preguntar!'}, {'role': 'user', 'content': 'Cuántos años tengo?'}, {'role': 'assistant', 'content': 'Tienes 22 años, ¡una edad genial para explorar y aprender! La juventud es una etapa maravillosa para adquirir conocimientos y habilidades que te acompañarán a lo largo de tu vida profesional. ¿Estás disfrutando de tu experiencia universitaria y de todo lo que implica ser un estudiante de Computación?'}]\n"
     ]
    }
   ],
   "source": [
    "print(chat_history)"
   ]
  },
  {
   "cell_type": "markdown",
   "id": "c6fb6d6a-1c32-42e5-a1ee-d62b2bc0785a",
   "metadata": {},
   "source": [
    "### RECOMENDACIONES GENERALES\n",
    "\n",
    "No se confien probando con un par de respuestas y ya, hagan minimo 5 pruebas por ejercicio para asi tener mas chances de visualizar errores en la generacion del contenido.\n",
    "\n",
    "Prueben combinar LLMs con programacion convencional para los casos que vean convenientes (decisiones if else, respuestas estaticas, etc)\n",
    "\n",
    "Prueben con distintos modelos de Cohere, hay algunos optimizados para ciertas aplicaciones."
   ]
  }
 ],
 "metadata": {
  "kernelspec": {
   "display_name": "Python 3 (ipykernel)",
   "language": "python",
   "name": "python3"
  },
  "language_info": {
   "codemirror_mode": {
    "name": "ipython",
    "version": 3
   },
   "file_extension": ".py",
   "mimetype": "text/x-python",
   "name": "python",
   "nbconvert_exporter": "python",
   "pygments_lexer": "ipython3",
   "version": "3.12.3"
  }
 },
 "nbformat": 4,
 "nbformat_minor": 5
}
